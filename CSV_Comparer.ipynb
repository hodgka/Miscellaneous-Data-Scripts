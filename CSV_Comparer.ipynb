{
 "cells": [
  {
   "cell_type": "markdown",
   "metadata": {},
   "source": [
    "# Intro"
   ]
  },
  {
   "cell_type": "markdown",
   "metadata": {},
   "source": [
    "Some code that I wrote for someone to clean up some csv files and get some basic information from them. The code is pretty straight forward, but just shows a little bit about manipulating csv files and dataframes using pandas."
   ]
  },
  {
   "cell_type": "code",
   "execution_count": 63,
   "metadata": {
    "collapsed": false,
    "deletable": true,
    "editable": true
   },
   "outputs": [],
   "source": [
    "import pandas as pd\n"
   ]
  },
  {
   "cell_type": "markdown",
   "metadata": {},
   "source": [
    "We only want to use certain columns from out data, so we will list the columns we want to use."
   ]
  },
  {
   "cell_type": "code",
   "execution_count": 64,
   "metadata": {
    "collapsed": true,
    "deletable": true,
    "editable": true
   },
   "outputs": [],
   "source": [
    "COLUMNS = [\n",
    "    \"Email Address\", \"First Name\", \"Last Name\", \"Job Title\", \"Company Name\",\n",
    "    \"Work Phone\", \"user\", \"domain\",\n",
    "]"
   ]
  },
  {
   "cell_type": "markdown",
   "metadata": {},
   "source": [
    "Next we will create our dataframes from a list of csv files. "
   ]
  },
  {
   "cell_type": "code",
   "execution_count": 65,
   "metadata": {
    "collapsed": false,
    "deletable": true,
    "editable": true
   },
   "outputs": [
    {
     "name": "stderr",
     "output_type": "stream",
     "text": [
      "/home/alec/.local/lib/python3.5/site-packages/IPython/core/interactiveshell.py:2881: DtypeWarning: Columns (11) have mixed types. Specify dtype option on import or set low_memory=False.\n",
      "  exec(code_obj, self.user_global_ns, self.user_ns)\n"
     ]
    }
   ],
   "source": [
    "def parse_csv(fname):\n",
    "    data = pd.read_csv(fname)\n",
    "    cols = [col for col in data.columns if col in COLUMNS]\n",
    "    return data[cols]\n",
    "\n",
    "fnames = [\n",
    "    \"filters-Mailchimp_subscribed-only-list-2017-02-09-RISKY.csv\",\n",
    "    \"Mailchimp-list-did-not-open-any-emails.csv\",\n",
    "]\n",
    "\n",
    "files = [parse_csv(fname) for fname in fnames]\n"
   ]
  },
  {
   "cell_type": "markdown",
   "metadata": {},
   "source": [
    "Now we will find all records that the dataframes have in common. For the sake of privacy, I will not show the resulting dataframe."
   ]
  },
  {
   "cell_type": "code",
   "execution_count": 66,
   "metadata": {
    "collapsed": false,
    "deletable": true,
    "editable": true
   },
   "outputs": [],
   "source": [
    "\n",
    "common = pd.merge(files[0], files[1], on=\"Email Address\")\n",
    "# common"
   ]
  },
  {
   "cell_type": "markdown",
   "metadata": {},
   "source": [
    "We can also find all records that are only in one of the dataframes by masking a dataframe using the isin function. Again I will not show the results."
   ]
  },
  {
   "cell_type": "code",
   "execution_count": 67,
   "metadata": {
    "collapsed": false,
    "deletable": true,
    "editable": true
   },
   "outputs": [],
   "source": [
    "risky_only = files[0][~files[0][\"Email Address\"].isin(files[1][\"Email Address\"])]\n",
    "\n",
    "# risky_only"
   ]
  },
  {
   "cell_type": "markdown",
   "metadata": {},
   "source": [
    "Finally we can write our cleaned up data out to files of our choosing."
   ]
  },
  {
   "cell_type": "code",
   "execution_count": 68,
   "metadata": {
    "collapsed": false,
    "deletable": true,
    "editable": true
   },
   "outputs": [],
   "source": [
    "dataframes = [common, risky_only]\n",
    "output_filenames = [\"Risky_Unopened.csv\",\"Risky_Opened.csv\"]\n",
    "\n",
    "for i in range(len(output_filenames)):\n",
    "    dataframes[i].to_csv(output_filenames[i], index=False)\n",
    "\n",
    "    "
   ]
  }
 ],
 "metadata": {
  "kernelspec": {
   "display_name": "Python 3",
   "language": "python",
   "name": "python3"
  },
  "language_info": {
   "codemirror_mode": {
    "name": "ipython",
    "version": 3
   },
   "file_extension": ".py",
   "mimetype": "text/x-python",
   "name": "python",
   "nbconvert_exporter": "python",
   "pygments_lexer": "ipython3",
   "version": "3.5.2"
  }
 },
 "nbformat": 4,
 "nbformat_minor": 2
}
